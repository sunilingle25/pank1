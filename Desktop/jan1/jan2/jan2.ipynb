{
 "cells": [
  {
   "cell_type": "markdown",
   "id": "6c8c1840",
   "metadata": {},
   "source": [
    "### 1)write a program to accept percentage from the user and display the grade according to the following  criteria "
   ]
  },
  {
   "cell_type": "code",
   "execution_count": 1,
   "id": "edbbb0f9",
   "metadata": {},
   "outputs": [
    {
     "name": "stdout",
     "output_type": "stream",
     "text": [
      "Enter Your Perentage:43\n",
      "Grade D\n"
     ]
    }
   ],
   "source": [
    "perc=int(input(\"Enter Your Perentage:\"))\n",
    "if perc>90:\n",
    "    print(\"Grade A\")\n",
    "if (perc>80) and (perc<=90):\n",
    "    print(\"Grade B\")\n",
    "if (perc>=60) and (perc<=80):\n",
    "    print(\"Grade C\")\n",
    "if (perc<60):\n",
    "    print(\"Grade D\")"
   ]
  },
  {
   "cell_type": "markdown",
   "id": "c6dcda77",
   "metadata": {},
   "source": [
    "### 2) write a program to accept the cost price of bike and display the road tax to be paid according to the following criteria"
   ]
  },
  {
   "cell_type": "code",
   "execution_count": 2,
   "id": "b3985e48",
   "metadata": {},
   "outputs": [
    {
     "name": "stdout",
     "output_type": "stream",
     "text": [
      "Enter price of bike(rs):6473\n",
      "Tax To Be Paid:  323.65000000000003\n"
     ]
    }
   ],
   "source": [
    "tax=0\n",
    "cost_price = int(input(\"Enter price of bike(rs):\"))\n",
    "if cost_price > 100000:\n",
    "    tax=15/100*cost_price\n",
    "elif (cost_price >50000) and (cost_price<=100000):\n",
    "    tax=10/100*cost_price\n",
    "else:\n",
    "    cost_price>=50000\n",
    "    tax=5/100*cost_price\n",
    "print(\"Tax To Be Paid: \",tax)"
   ]
  },
  {
   "cell_type": "markdown",
   "id": "107bf734",
   "metadata": {},
   "source": [
    "### 3)Write A program to check whether an year is leap or not."
   ]
  },
  {
   "cell_type": "code",
   "execution_count": 3,
   "id": "9f5ff9ba",
   "metadata": {},
   "outputs": [
    {
     "name": "stdout",
     "output_type": "stream",
     "text": [
      "Enter the year :647\n",
      "Entered year is not a leap year\n"
     ]
    }
   ],
   "source": [
    "year=int(input(\"Enter the year :\"))\n",
    "if year%100==0:\n",
    "    if year%400==0:\n",
    "        print(\"Entered year is leap year\")\n",
    "    else:\n",
    "        print(\"Entered year is  not a leap year\")\n",
    "else:\n",
    "    if year%4==0:\n",
    "        print(\"Entered year is leap year\")\n",
    "    else:\n",
    "        print(\"Entered year is not a leap year\")"
   ]
  },
  {
   "cell_type": "markdown",
   "id": "acd841fc",
   "metadata": {},
   "source": [
    "###  4) write a program to accept a number from 1 to 12 and display name of the  month and days in that month like 1 for jaunary and number of days 31 and so on"
   ]
  },
  {
   "cell_type": "code",
   "execution_count": 5,
   "id": "c1f523b4",
   "metadata": {},
   "outputs": [
    {
     "name": "stdout",
     "output_type": "stream",
     "text": [
      "Enter The Number between 1 To 12: 10\n",
      "October\n"
     ]
    }
   ],
   "source": [
    "num=int(input(\"Enter The Number between 1 To 12: \"))\n",
    "if num==1:\n",
    "    print(\"Jnauary\")\n",
    "elif num==2:\n",
    "    print(\"February\")\n",
    "elif num==3:\n",
    "    print(\"March\")\n",
    "elif num==4:\n",
    "    print(\"April\")\n",
    "elif num==5:\n",
    "    print(\"May\")\n",
    "elif num==6:\n",
    "    print(\"June\")\n",
    "elif num==7:\n",
    "    print(\"July\")\n",
    "elif num==8:\n",
    "    print(\"August\")\n",
    "elif num==9:\n",
    "    print(\"September\")\n",
    "elif num==10:\n",
    "    print(\"October\")\n",
    "elif num==11:\n",
    "    print(\"November\")\n",
    "elif num==12:\n",
    "    print(\"December\")\n",
    "else:\n",
    "    print(\"please enter number between 1 to 12\")\n",
    "    \n",
    "    "
   ]
  },
  {
   "cell_type": "code",
   "execution_count": 6,
   "id": "d1b2ea8b",
   "metadata": {},
   "outputs": [
    {
     "name": "stdout",
     "output_type": "stream",
     "text": [
      "Change Order\n"
     ]
    }
   ],
   "source": [
    "A=10\n",
    "B=9\n",
    "C=6\n",
    "D=8\n",
    "\n",
    "if A>B>C>D:\n",
    "    print(\"OK\")\n",
    "else:\n",
    "    print(\"Change Order\")"
   ]
  },
  {
   "cell_type": "markdown",
   "id": "76d29c38",
   "metadata": {},
   "source": [
    "### 5) Accept any CITY from user and display monument of that  CITY"
   ]
  },
  {
   "cell_type": "code",
   "execution_count": 7,
   "id": "07c84844",
   "metadata": {},
   "outputs": [
    {
     "name": "stdout",
     "output_type": "stream",
     "text": [
      "Enter The City Name: Delhi\n",
      "Monument:Red Fort\n"
     ]
    }
   ],
   "source": [
    "\n",
    "City=input(\"Enter The City Name: \")\n",
    "if (City==\"Delhi\"):\n",
    "    print(\"Monument:Red Fort\")\n",
    "elif City==\"Agra\":\n",
    "    print(\"Monument:Taj Mahal\")\n",
    "elif City==\"Jaipur\":\n",
    "    print(\"Monument:Jai Mahal\")\n",
    "else:\n",
    "    print(\"Please Enter Correct City Name\")\n",
    "    "
   ]
  },
  {
   "cell_type": "code",
   "execution_count": null,
   "id": "ff387892",
   "metadata": {},
   "outputs": [],
   "source": []
  }
 ],
 "metadata": {
  "kernelspec": {
   "display_name": "Python 3 (ipykernel)",
   "language": "python",
   "name": "python3"
  },
  "language_info": {
   "codemirror_mode": {
    "name": "ipython",
    "version": 3
   },
   "file_extension": ".py",
   "mimetype": "text/x-python",
   "name": "python",
   "nbconvert_exporter": "python",
   "pygments_lexer": "ipython3",
   "version": "3.9.13"
  }
 },
 "nbformat": 4,
 "nbformat_minor": 5
}
